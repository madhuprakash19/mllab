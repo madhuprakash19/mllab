{
  "metadata": {
    "language_info": {
      "codemirror_mode": {
        "name": "python",
        "version": 3
      },
      "file_extension": ".py",
      "mimetype": "text/x-python",
      "name": "python",
      "nbconvert_exporter": "python",
      "pygments_lexer": "ipython3",
      "version": "3.8"
    },
    "kernelspec": {
      "name": "python",
      "display_name": "Python (Pyodide)",
      "language": "python"
    }
  },
  "nbformat_minor": 4,
  "nbformat": 4,
  "cells": [
    {
      "cell_type": "code",
      "source": "import pandas as pd\nimport numpy as np\ndata=pd.read_csv('covid.csv')",
      "metadata": {
        "trusted": true
      },
      "execution_count": 1,
      "outputs": []
    },
    {
      "cell_type": "code",
      "source": "data",
      "metadata": {
        "trusted": true
      },
      "execution_count": 3,
      "outputs": [
        {
          "execution_count": 3,
          "output_type": "execute_result",
          "data": {
            "text/plain": "    no      pc     wbc      mc     ast      bc     ldh  diagnosis\n0    1     Low     Low     Low    High  Normal  Normal       True\n1    2     Low     Low  Normal    High  Normal    High       True\n2    3     Low    High  Normal    High  Normal  Normal      False\n3    4     Low    High  Normal    High    High  Normal       True\n4    5     Low  Normal    High    High  Normal  Normal      False\n5    6     Low  Normal  Normal    High  Normal    High       True\n6    7  Normal     Low     Low    High  Normal  Normal       True\n7    8  Normal    High  Normal    High  Normal  Normal      False\n8    9  Normal    High  Normal    High    High    High       True\n9   10  Normal  Normal    High    High  Normal  Normal      False\n10  11  Normal  Normal    High    High  Normal    High       True\n11  12    High     Low     Low  Normal  Normal  Normal       True\n12  13    High  Normal    High  Normal  Normal  Normal      False\n13  14    High  Normal    High  Normal    High    High       True\n14  15    High    High  Normal  Normal  Normal    High       True\n15  16     Low  Normal    High    High    High  Normal      False\n16  17  Normal  Normal    High    High    High  Normal      False\n17  18    High     Low     Low  Normal  Normal    High       True\n18  19  Normal  Normal  Normal    High  Normal  Normal      False\n19  20  Normal    High  Normal    High  Normal    High       True\n20  21  Normal     Low  Normal    High  Normal    High       True\n21  22     Low    High  Normal    High    High    High       True\n22  23     Low     Low     Low    High    High    High       True\n23  24    High    High  Normal  Normal  Normal  Normal       True\n24  25    High  Normal  Normal  Normal  Normal  Normal      False",
            "text/html": "<div>\n<style scoped>\n    .dataframe tbody tr th:only-of-type {\n        vertical-align: middle;\n    }\n\n    .dataframe tbody tr th {\n        vertical-align: top;\n    }\n\n    .dataframe thead th {\n        text-align: right;\n    }\n</style>\n<table border=\"1\" class=\"dataframe\">\n  <thead>\n    <tr style=\"text-align: right;\">\n      <th></th>\n      <th>no</th>\n      <th>pc</th>\n      <th>wbc</th>\n      <th>mc</th>\n      <th>ast</th>\n      <th>bc</th>\n      <th>ldh</th>\n      <th>diagnosis</th>\n    </tr>\n  </thead>\n  <tbody>\n    <tr>\n      <th>0</th>\n      <td>1</td>\n      <td>Low</td>\n      <td>Low</td>\n      <td>Low</td>\n      <td>High</td>\n      <td>Normal</td>\n      <td>Normal</td>\n      <td>True</td>\n    </tr>\n    <tr>\n      <th>1</th>\n      <td>2</td>\n      <td>Low</td>\n      <td>Low</td>\n      <td>Normal</td>\n      <td>High</td>\n      <td>Normal</td>\n      <td>High</td>\n      <td>True</td>\n    </tr>\n    <tr>\n      <th>2</th>\n      <td>3</td>\n      <td>Low</td>\n      <td>High</td>\n      <td>Normal</td>\n      <td>High</td>\n      <td>Normal</td>\n      <td>Normal</td>\n      <td>False</td>\n    </tr>\n    <tr>\n      <th>3</th>\n      <td>4</td>\n      <td>Low</td>\n      <td>High</td>\n      <td>Normal</td>\n      <td>High</td>\n      <td>High</td>\n      <td>Normal</td>\n      <td>True</td>\n    </tr>\n    <tr>\n      <th>4</th>\n      <td>5</td>\n      <td>Low</td>\n      <td>Normal</td>\n      <td>High</td>\n      <td>High</td>\n      <td>Normal</td>\n      <td>Normal</td>\n      <td>False</td>\n    </tr>\n    <tr>\n      <th>5</th>\n      <td>6</td>\n      <td>Low</td>\n      <td>Normal</td>\n      <td>Normal</td>\n      <td>High</td>\n      <td>Normal</td>\n      <td>High</td>\n      <td>True</td>\n    </tr>\n    <tr>\n      <th>6</th>\n      <td>7</td>\n      <td>Normal</td>\n      <td>Low</td>\n      <td>Low</td>\n      <td>High</td>\n      <td>Normal</td>\n      <td>Normal</td>\n      <td>True</td>\n    </tr>\n    <tr>\n      <th>7</th>\n      <td>8</td>\n      <td>Normal</td>\n      <td>High</td>\n      <td>Normal</td>\n      <td>High</td>\n      <td>Normal</td>\n      <td>Normal</td>\n      <td>False</td>\n    </tr>\n    <tr>\n      <th>8</th>\n      <td>9</td>\n      <td>Normal</td>\n      <td>High</td>\n      <td>Normal</td>\n      <td>High</td>\n      <td>High</td>\n      <td>High</td>\n      <td>True</td>\n    </tr>\n    <tr>\n      <th>9</th>\n      <td>10</td>\n      <td>Normal</td>\n      <td>Normal</td>\n      <td>High</td>\n      <td>High</td>\n      <td>Normal</td>\n      <td>Normal</td>\n      <td>False</td>\n    </tr>\n    <tr>\n      <th>10</th>\n      <td>11</td>\n      <td>Normal</td>\n      <td>Normal</td>\n      <td>High</td>\n      <td>High</td>\n      <td>Normal</td>\n      <td>High</td>\n      <td>True</td>\n    </tr>\n    <tr>\n      <th>11</th>\n      <td>12</td>\n      <td>High</td>\n      <td>Low</td>\n      <td>Low</td>\n      <td>Normal</td>\n      <td>Normal</td>\n      <td>Normal</td>\n      <td>True</td>\n    </tr>\n    <tr>\n      <th>12</th>\n      <td>13</td>\n      <td>High</td>\n      <td>Normal</td>\n      <td>High</td>\n      <td>Normal</td>\n      <td>Normal</td>\n      <td>Normal</td>\n      <td>False</td>\n    </tr>\n    <tr>\n      <th>13</th>\n      <td>14</td>\n      <td>High</td>\n      <td>Normal</td>\n      <td>High</td>\n      <td>Normal</td>\n      <td>High</td>\n      <td>High</td>\n      <td>True</td>\n    </tr>\n    <tr>\n      <th>14</th>\n      <td>15</td>\n      <td>High</td>\n      <td>High</td>\n      <td>Normal</td>\n      <td>Normal</td>\n      <td>Normal</td>\n      <td>High</td>\n      <td>True</td>\n    </tr>\n    <tr>\n      <th>15</th>\n      <td>16</td>\n      <td>Low</td>\n      <td>Normal</td>\n      <td>High</td>\n      <td>High</td>\n      <td>High</td>\n      <td>Normal</td>\n      <td>False</td>\n    </tr>\n    <tr>\n      <th>16</th>\n      <td>17</td>\n      <td>Normal</td>\n      <td>Normal</td>\n      <td>High</td>\n      <td>High</td>\n      <td>High</td>\n      <td>Normal</td>\n      <td>False</td>\n    </tr>\n    <tr>\n      <th>17</th>\n      <td>18</td>\n      <td>High</td>\n      <td>Low</td>\n      <td>Low</td>\n      <td>Normal</td>\n      <td>Normal</td>\n      <td>High</td>\n      <td>True</td>\n    </tr>\n    <tr>\n      <th>18</th>\n      <td>19</td>\n      <td>Normal</td>\n      <td>Normal</td>\n      <td>Normal</td>\n      <td>High</td>\n      <td>Normal</td>\n      <td>Normal</td>\n      <td>False</td>\n    </tr>\n    <tr>\n      <th>19</th>\n      <td>20</td>\n      <td>Normal</td>\n      <td>High</td>\n      <td>Normal</td>\n      <td>High</td>\n      <td>Normal</td>\n      <td>High</td>\n      <td>True</td>\n    </tr>\n    <tr>\n      <th>20</th>\n      <td>21</td>\n      <td>Normal</td>\n      <td>Low</td>\n      <td>Normal</td>\n      <td>High</td>\n      <td>Normal</td>\n      <td>High</td>\n      <td>True</td>\n    </tr>\n    <tr>\n      <th>21</th>\n      <td>22</td>\n      <td>Low</td>\n      <td>High</td>\n      <td>Normal</td>\n      <td>High</td>\n      <td>High</td>\n      <td>High</td>\n      <td>True</td>\n    </tr>\n    <tr>\n      <th>22</th>\n      <td>23</td>\n      <td>Low</td>\n      <td>Low</td>\n      <td>Low</td>\n      <td>High</td>\n      <td>High</td>\n      <td>High</td>\n      <td>True</td>\n    </tr>\n    <tr>\n      <th>23</th>\n      <td>24</td>\n      <td>High</td>\n      <td>High</td>\n      <td>Normal</td>\n      <td>Normal</td>\n      <td>Normal</td>\n      <td>Normal</td>\n      <td>True</td>\n    </tr>\n    <tr>\n      <th>24</th>\n      <td>25</td>\n      <td>High</td>\n      <td>Normal</td>\n      <td>Normal</td>\n      <td>Normal</td>\n      <td>Normal</td>\n      <td>Normal</td>\n      <td>False</td>\n    </tr>\n  </tbody>\n</table>\n</div>"
          },
          "metadata": {}
        }
      ]
    },
    {
      "cell_type": "code",
      "source": "from sklearn import preprocessing\nle=preprocessing.LabelEncoder()\npc_encoded=le.fit_transform(data['pc'].values)\nwbc_encoded=le.fit_transform(data['wbc'].values)\nmc_encoded=le.fit_transform(data['mc'].values)\nast_encoded=le.fit_transform(data['ast'].values)\nbc_encoded=le.fit_transform(data['bc'].values)\nldh_encoded=le.fit_transform(data['ldh'].values)\nY=le.fit_transform(data['diagnosis'].values)",
      "metadata": {
        "trusted": true
      },
      "execution_count": 8,
      "outputs": []
    },
    {
      "cell_type": "code",
      "source": "X=np.array(list(zip(pc_encoded,wbc_encoded,mc_encoded,ast_encoded,bc_encoded,ldh_encoded)))",
      "metadata": {
        "trusted": true
      },
      "execution_count": 9,
      "outputs": []
    },
    {
      "cell_type": "code",
      "source": "X",
      "metadata": {
        "trusted": true
      },
      "execution_count": 10,
      "outputs": [
        {
          "execution_count": 10,
          "output_type": "execute_result",
          "data": {
            "text/plain": "array([[1, 1, 1, 0, 1, 1],\n       [1, 1, 2, 0, 1, 0],\n       [1, 0, 2, 0, 1, 1],\n       [1, 0, 2, 0, 0, 1],\n       [1, 2, 0, 0, 1, 1],\n       [1, 2, 2, 0, 1, 0],\n       [2, 1, 1, 0, 1, 1],\n       [2, 0, 2, 0, 1, 1],\n       [2, 0, 2, 0, 0, 0],\n       [2, 2, 0, 0, 1, 1],\n       [2, 2, 0, 0, 1, 0],\n       [0, 1, 1, 1, 1, 1],\n       [0, 2, 0, 1, 1, 1],\n       [0, 2, 0, 1, 0, 0],\n       [0, 0, 2, 1, 1, 0],\n       [1, 2, 0, 0, 0, 1],\n       [2, 2, 0, 0, 0, 1],\n       [0, 1, 1, 1, 1, 0],\n       [2, 2, 2, 0, 1, 1],\n       [2, 0, 2, 0, 1, 0],\n       [2, 1, 2, 0, 1, 0],\n       [1, 0, 2, 0, 0, 0],\n       [1, 1, 1, 0, 0, 0],\n       [0, 0, 2, 1, 1, 1],\n       [0, 2, 2, 1, 1, 1]])"
          },
          "metadata": {}
        }
      ]
    },
    {
      "cell_type": "code",
      "source": "Y",
      "metadata": {
        "trusted": true
      },
      "execution_count": 11,
      "outputs": [
        {
          "execution_count": 11,
          "output_type": "execute_result",
          "data": {
            "text/plain": "array([1, 1, 0, 1, 0, 1, 1, 0, 1, 0, 1, 1, 0, 1, 1, 0, 0, 1, 0, 1, 1, 1,\n       1, 1, 0], dtype=int32)"
          },
          "metadata": {}
        }
      ]
    },
    {
      "cell_type": "code",
      "source": "from sklearn.naive_bayes import MultinomialNB\nfrom sklearn.metrics import accuracy_score\nfrom sklearn.metrics import classification_report\nmodel=MultinomialNB()",
      "metadata": {
        "trusted": true
      },
      "execution_count": 15,
      "outputs": []
    },
    {
      "cell_type": "code",
      "source": "from sklearn.model_selection import train_test_split\nX_train,X_test,Y_train,Y_test=train_test_split(X,Y)\nmodel.fit(X_train,Y_train)\ny_pred=model.predict(X_test)",
      "metadata": {
        "trusted": true
      },
      "execution_count": 16,
      "outputs": []
    },
    {
      "cell_type": "code",
      "source": "print(\"Accuracy:\", accuracy_score(Y_test,y_pred))\nprint(\"\\n---------Report-------------\\n\")\nprint(classification_report(Y_test,y_pred))\n    ",
      "metadata": {
        "trusted": true
      },
      "execution_count": 20,
      "outputs": [
        {
          "name": "stdout",
          "text": "Accuracy: 0.5714285714285714\n\n---------Report-------------\n\n              precision    recall  f1-score   support\n\n           0       1.00      0.40      0.57         5\n           1       0.40      1.00      0.57         2\n\n    accuracy                           0.57         7\n   macro avg       0.70      0.70      0.57         7\nweighted avg       0.83      0.57      0.57         7\n\n",
          "output_type": "stream"
        }
      ]
    },
    {
      "cell_type": "code",
      "source": "",
      "metadata": {},
      "execution_count": null,
      "outputs": []
    }
  ]
}