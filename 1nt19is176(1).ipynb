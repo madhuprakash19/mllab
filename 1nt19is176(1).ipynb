{
 "cells": [
  {
   "cell_type": "code",
   "execution_count": 1,
   "metadata": {},
   "outputs": [
    {
     "name": "stdout",
     "output_type": "stream",
     "text": [
      "Hello World\n"
     ]
    }
   ],
   "source": [
    "print(\"Hello World\")\n",
    "\n"
   ]
  },
  {
   "cell_type": "code",
   "execution_count": null,
   "metadata": {},
   "outputs": [],
   "source": [
    "#sum of two numbers\n",
    "a=int(input(\"enter a number\"))\n",
    "b=int(input(\"enter another number\"))\n",
    "c=a+b\n",
    "print(\"sum is\",c)"
   ]
  },
  {
   "cell_type": "code",
   "execution_count": 6,
   "metadata": {},
   "outputs": [
    {
     "name": "stdout",
     "output_type": "stream",
     "text": [
      "enter a number35\n",
      "enter second number53\n",
      "after swapping a is 53\n",
      "after swapping b is 35\n"
     ]
    }
   ],
   "source": [
    "#swapping two numbers\n",
    "a=int(input(\"enter a number\"))\n",
    "b=int(input(\"enter second number\"))\n",
    "temp=a\n",
    "a=b\n",
    "b=temp\n",
    "print(\"after swapping a is\",a)\n",
    "print(\"after swapping b is\",b)"
   ]
  },
  {
   "cell_type": "code",
   "execution_count": 10,
   "metadata": {},
   "outputs": [
    {
     "name": "stdout",
     "output_type": "stream",
     "text": [
      "enter the size2\n",
      "1 2\n",
      "enter the value to be searched1\n",
      "Element found at position 1\n"
     ]
    }
   ],
   "source": [
    "#binary search\n",
    "def bsearch(arr,key):\n",
    "    l=0\n",
    "    h=len(arr)-1\n",
    "    while(l<=h):\n",
    "        mid=(l+h)//2\n",
    "        if(arr[mid]==key):\n",
    "            return mid\n",
    "        elif(key>arr[mid]):\n",
    "            l=mid+1\n",
    "        else:\n",
    "            h=mid-1\n",
    "    return -1\n",
    "\n",
    "n=int(input(\"enter the size\"))\n",
    "li=list(map(int,input().split()))\n",
    "key=int(input(\"enter the value to be searched\"))\n",
    "pos=bsearch(li,key)\n",
    "if(pos==-1):\n",
    "    print(\"Element not found\")\n",
    "else:\n",
    "    print(\"Element found at position\",pos+1)\n",
    "            "
   ]
  },
  {
   "cell_type": "code",
   "execution_count": null,
   "metadata": {},
   "outputs": [],
   "source": [
    "#linear search\n",
    "def search(arr,key):\n",
    "    i=0\n",
    "    n=len(arr)\n",
    "    while(i<n):\n",
    "        if(arr[i]==key):\n",
    "            return i\n",
    "        i+=1\n",
    "    return -1\n",
    "    \n",
    "n=int(input(\"enter the size\"))\n",
    "li=list(map(int,input().spit()))\n",
    "key=int(input(\"enter the value to be searched\"))\n",
    "pos=search(li,key)\n",
    "if(pos==-1):\n",
    "    print(\"Element not found\")\n",
    "else:\n",
    "    print(\"Element found at position\",pos+1)\n",
    "    \n",
    "    "
   ]
  },
  {
   "cell_type": "code",
   "execution_count": null,
   "metadata": {},
   "outputs": [],
   "source": [
    "print(5)"
   ]
  },
  {
   "cell_type": "code",
   "execution_count": null,
   "metadata": {},
   "outputs": [],
   "source": []
  }
 ],
 "metadata": {
  "kernelspec": {
   "display_name": "Python 3",
   "language": "python",
   "name": "python3"
  },
  "language_info": {
   "codemirror_mode": {
    "name": "ipython",
    "version": 3
   },
   "file_extension": ".py",
   "mimetype": "text/x-python",
   "name": "python",
   "nbconvert_exporter": "python",
   "pygments_lexer": "ipython3",
   "version": "3.8.3"
  }
 },
 "nbformat": 4,
 "nbformat_minor": 4
}
