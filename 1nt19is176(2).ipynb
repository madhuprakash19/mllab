{
 "cells": [
  {
   "cell_type": "code",
   "execution_count": 3,
   "metadata": {},
   "outputs": [
    {
     "name": "stdout",
     "output_type": "stream",
     "text": [
      "4.166666666666667\n",
      "4.5\n",
      "[5]\n",
      "1.8055555555555554\n",
      "1.3437096247164249\n"
     ]
    }
   ],
   "source": [
    "def mean(li):\n",
    "    n=len(li)\n",
    "    sum=0\n",
    "    for i in li:\n",
    "        sum+=i\n",
    "    return sum/n\n",
    "\n",
    "def median(li):\n",
    "    n=len(li)\n",
    "    if n%2==0:\n",
    "        return (li[n//2]+li[n//2-1])/2\n",
    "    else:\n",
    "        return li[n//2]\n",
    "    \n",
    "def mode(li):\n",
    "    counts={}\n",
    "    for i in li:\n",
    "        if i in counts:\n",
    "            counts[i]+=1\n",
    "        else:\n",
    "            counts[i]=1\n",
    "    return [key for key in counts.keys() if counts[key]==max(counts.values())]\n",
    "\n",
    "def variance(li):\n",
    "    mu = mean(li)\n",
    "    n = len(li)\n",
    "    res = 0\n",
    "    for i in li:\n",
    "        temp = i - mu\n",
    "        temp = temp*temp\n",
    "        res+=temp\n",
    "    return res/n\n",
    "\n",
    "def stddev(li):\n",
    "    return variance(li)**0.5\n",
    "\n",
    "li=[2,3,4,5,5,6]\n",
    "\n",
    "print(mean(li))\n",
    "print(median(li))\n",
    "print(mode(li))\n",
    "print(variance(li))\n",
    "print(stddev(li))\n",
    "\n",
    "            \n",
    "    "
   ]
  },
  {
   "cell_type": "code",
   "execution_count": null,
   "metadata": {},
   "outputs": [],
   "source": []
  }
 ],
 "metadata": {
  "kernelspec": {
   "display_name": "Python 3",
   "language": "python",
   "name": "python3"
  },
  "language_info": {
   "codemirror_mode": {
    "name": "ipython",
    "version": 3
   },
   "file_extension": ".py",
   "mimetype": "text/x-python",
   "name": "python",
   "nbconvert_exporter": "python",
   "pygments_lexer": "ipython3",
   "version": "3.8.3"
  }
 },
 "nbformat": 4,
 "nbformat_minor": 4
}
