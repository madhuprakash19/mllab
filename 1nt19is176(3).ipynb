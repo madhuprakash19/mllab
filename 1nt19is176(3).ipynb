{
 "cells": [
  {
   "cell_type": "code",
   "execution_count": 10,
   "metadata": {},
   "outputs": [
    {
     "name": "stdout",
     "output_type": "stream",
     "text": [
      "[0.0, 0.25, 0.25, 0.5, 0.5, 0.75, 1.0]\n"
     ]
    }
   ],
   "source": [
    "def normalisation(li):\n",
    "    a=min(li)\n",
    "    b=max(li)\n",
    "    res=[]\n",
    "    for i in li:\n",
    "        n=(i-a)/(b-a)\n",
    "        res.append(n)\n",
    "    return res\n",
    "li=[2,3,3,4,4,5,6]\n",
    "print(normalisation(li))"
   ]
  },
  {
   "cell_type": "code",
   "execution_count": 13,
   "metadata": {
    "scrolled": true
   },
   "outputs": [
    {
     "data": {
      "text/plain": [
       "[-1.5, -1.0, -0.5, 0.0, 0.5, 1.0, 1.5]"
      ]
     },
     "execution_count": 13,
     "metadata": {},
     "output_type": "execute_result"
    }
   ],
   "source": [
    "def variance(li):\n",
    "    mu = mean(li)\n",
    "    n = len(li)\n",
    "    res = 0\n",
    "    for i in li:\n",
    "        temp = i - mu\n",
    "        temp = temp*temp\n",
    "        res+=temp\n",
    "    return res/n\n",
    "\n",
    "def mean(li):\n",
    "    n=len(li)\n",
    "    sum=0\n",
    "    for i in li:\n",
    "        sum+=i\n",
    "    return sum/n\n",
    "\n",
    "def standardization(li):\n",
    "    new=[]\n",
    "    for i in li:\n",
    "        res=(i-mean(li))/(variance(li)**0.5)\n",
    "        new.append(res)\n",
    "    return new\n",
    "\n",
    "li=[2,3,4,5,6,7,8]\n",
    "standardization(li)\n",
    "\n",
    "\n",
    "    \n",
    "    "
   ]
  },
  {
   "cell_type": "code",
   "execution_count": 20,
   "metadata": {},
   "outputs": [
    {
     "name": "stdout",
     "output_type": "stream",
     "text": [
      "       name  usn  cgpa  marks\n",
      "0   nikitha  189  8.81     90\n",
      "1       anu  177  7.96     72\n",
      "2     madhu  181  9.00     88\n",
      "3    laisha  190  6.50     98\n",
      "4  harshini  160  9.20     73\n",
      "5  lakshana  133  8.12     95\n",
      "6      john  165  5.40     44\n",
      "7     minnu  190  8.98     69\n",
      "8     kavya  130  5.10     55\n",
      "       name  cgpa\n",
      "0   nikitha  8.81\n",
      "1       anu  7.96\n",
      "2     madhu  9.00\n",
      "3    laisha  6.50\n",
      "4  harshini  9.20\n",
      "5  lakshana  8.12\n",
      "6      john  5.40\n",
      "7     minnu  8.98\n",
      "8     kavya  5.10\n"
     ]
    }
   ],
   "source": [
    "import pandas\n",
    "file=pandas.read_csv('/home/admin1/Documents/data.csv')\n",
    "print(file)\n",
    "df=pandas.read_csv(\"/home/admin1/Documents/data.csv\" ,usecols=['name','cgpa'])\n",
    "print(df)"
   ]
  },
  {
   "cell_type": "code",
   "execution_count": null,
   "metadata": {},
   "outputs": [],
   "source": []
  }
 ],
 "metadata": {
  "kernelspec": {
   "display_name": "Python 3",
   "language": "python",
   "name": "python3"
  },
  "language_info": {
   "codemirror_mode": {
    "name": "ipython",
    "version": 3
   },
   "file_extension": ".py",
   "mimetype": "text/x-python",
   "name": "python",
   "nbconvert_exporter": "python",
   "pygments_lexer": "ipython3",
   "version": "3.8.10"
  }
 },
 "nbformat": 4,
 "nbformat_minor": 4
}
